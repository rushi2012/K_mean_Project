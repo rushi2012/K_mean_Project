{
  "nbformat": 4,
  "nbformat_minor": 0,
  "metadata": {
    "colab": {
      "name": "Kmean_Clustering_project.ipynb",
      "provenance": [],
      "authorship_tag": "ABX9TyMs2ZGeGHtRhiom9YeQV5RH",
      "include_colab_link": true
    },
    "kernelspec": {
      "name": "python3",
      "display_name": "Python 3"
    },
    "language_info": {
      "name": "python"
    }
  },
  "cells": [
    {
      "cell_type": "markdown",
      "metadata": {
        "id": "view-in-github",
        "colab_type": "text"
      },
      "source": [
        "<a href=\"https://colab.research.google.com/github/rushi2012/K_mean_Project/blob/main/Kmean_Clustering_project.ipynb\" target=\"_parent\"><img src=\"https://colab.research.google.com/assets/colab-badge.svg\" alt=\"Open In Colab\"/></a>"
      ]
    },
    {
      "cell_type": "code",
      "metadata": {
        "id": "Zb2P_A6el3wi"
      },
      "source": [
        "import pandas as pd\n",
        "import numpy as np\n",
        "import matplotlib.pyplot as plt\n",
        "import seaborn as sns\n",
        "import warnings \n",
        "warnings.filterwarnings('ignore')\n"
      ],
      "execution_count": null,
      "outputs": []
    },
    {
      "cell_type": "code",
      "metadata": {
        "colab": {
          "base_uri": "https://localhost:8080/",
          "height": 521
        },
        "id": "AMyqypn6mIZN",
        "outputId": "7b948517-a237-457d-c7be-2f5c38ae82aa"
      },
      "source": [
        "df = pd.read_csv('/content/employee-compensation.csv')\n",
        "df.head()\n"
      ],
      "execution_count": null,
      "outputs": [
        {
          "output_type": "execute_result",
          "data": {
            "text/html": [
              "<div>\n",
              "<style scoped>\n",
              "    .dataframe tbody tr th:only-of-type {\n",
              "        vertical-align: middle;\n",
              "    }\n",
              "\n",
              "    .dataframe tbody tr th {\n",
              "        vertical-align: top;\n",
              "    }\n",
              "\n",
              "    .dataframe thead th {\n",
              "        text-align: right;\n",
              "    }\n",
              "</style>\n",
              "<table border=\"1\" class=\"dataframe\">\n",
              "  <thead>\n",
              "    <tr style=\"text-align: right;\">\n",
              "      <th></th>\n",
              "      <th>Organization Group Code</th>\n",
              "      <th>Job Family Code</th>\n",
              "      <th>Job Code</th>\n",
              "      <th>Year Type</th>\n",
              "      <th>Year</th>\n",
              "      <th>Organization Group</th>\n",
              "      <th>Department Code</th>\n",
              "      <th>Department</th>\n",
              "      <th>Union Code</th>\n",
              "      <th>Union</th>\n",
              "      <th>Job Family</th>\n",
              "      <th>Job</th>\n",
              "      <th>Employee Identifier</th>\n",
              "      <th>Salaries</th>\n",
              "      <th>Overtime</th>\n",
              "      <th>Other Salaries</th>\n",
              "      <th>Total Salary</th>\n",
              "      <th>Retirement</th>\n",
              "      <th>Health and Dental</th>\n",
              "      <th>Other Benefits</th>\n",
              "      <th>Total Benefits</th>\n",
              "      <th>Total Compensation</th>\n",
              "    </tr>\n",
              "  </thead>\n",
              "  <tbody>\n",
              "    <tr>\n",
              "      <th>0</th>\n",
              "      <td>1</td>\n",
              "      <td>1000</td>\n",
              "      <td>1021</td>\n",
              "      <td>Calendar</td>\n",
              "      <td>2013</td>\n",
              "      <td>Public Protection</td>\n",
              "      <td>ADP</td>\n",
              "      <td>ADP Adult Probation</td>\n",
              "      <td>21</td>\n",
              "      <td>Prof &amp; Tech Engineers - Miscellaneous, Local 21</td>\n",
              "      <td>Information Systems</td>\n",
              "      <td>IS Administrator 1</td>\n",
              "      <td>37730</td>\n",
              "      <td>57534.65</td>\n",
              "      <td>0.0</td>\n",
              "      <td>0.00</td>\n",
              "      <td>57534.65</td>\n",
              "      <td>11253.16</td>\n",
              "      <td>11961.34</td>\n",
              "      <td>4532.63</td>\n",
              "      <td>27747.13</td>\n",
              "      <td>85281.78</td>\n",
              "    </tr>\n",
              "    <tr>\n",
              "      <th>1</th>\n",
              "      <td>1</td>\n",
              "      <td>1000</td>\n",
              "      <td>1023</td>\n",
              "      <td>Calendar</td>\n",
              "      <td>2013</td>\n",
              "      <td>Public Protection</td>\n",
              "      <td>ADP</td>\n",
              "      <td>ADP Adult Probation</td>\n",
              "      <td>21</td>\n",
              "      <td>Prof &amp; Tech Engineers - Miscellaneous, Local 21</td>\n",
              "      <td>Information Systems</td>\n",
              "      <td>IS Administrator 3</td>\n",
              "      <td>26574</td>\n",
              "      <td>57678.50</td>\n",
              "      <td>0.0</td>\n",
              "      <td>0.00</td>\n",
              "      <td>57678.50</td>\n",
              "      <td>10284.88</td>\n",
              "      <td>7176.80</td>\n",
              "      <td>4755.14</td>\n",
              "      <td>22216.82</td>\n",
              "      <td>79895.32</td>\n",
              "    </tr>\n",
              "    <tr>\n",
              "      <th>2</th>\n",
              "      <td>1</td>\n",
              "      <td>1000</td>\n",
              "      <td>1031</td>\n",
              "      <td>Calendar</td>\n",
              "      <td>2013</td>\n",
              "      <td>Public Protection</td>\n",
              "      <td>ADP</td>\n",
              "      <td>ADP Adult Probation</td>\n",
              "      <td>21</td>\n",
              "      <td>Prof &amp; Tech Engineers - Miscellaneous, Local 21</td>\n",
              "      <td>Information Systems</td>\n",
              "      <td>IS Trainer-Assistant</td>\n",
              "      <td>8148</td>\n",
              "      <td>63532.93</td>\n",
              "      <td>0.0</td>\n",
              "      <td>0.00</td>\n",
              "      <td>63532.93</td>\n",
              "      <td>12495.83</td>\n",
              "      <td>12918.24</td>\n",
              "      <td>4702.71</td>\n",
              "      <td>30116.78</td>\n",
              "      <td>93649.71</td>\n",
              "    </tr>\n",
              "    <tr>\n",
              "      <th>3</th>\n",
              "      <td>1</td>\n",
              "      <td>1000</td>\n",
              "      <td>1054</td>\n",
              "      <td>Calendar</td>\n",
              "      <td>2013</td>\n",
              "      <td>Public Protection</td>\n",
              "      <td>ADP</td>\n",
              "      <td>ADP Adult Probation</td>\n",
              "      <td>21</td>\n",
              "      <td>Prof &amp; Tech Engineers - Miscellaneous, Local 21</td>\n",
              "      <td>Information Systems</td>\n",
              "      <td>IS Business Analyst-Principal</td>\n",
              "      <td>27436</td>\n",
              "      <td>101274.51</td>\n",
              "      <td>0.0</td>\n",
              "      <td>-7058.59</td>\n",
              "      <td>94215.92</td>\n",
              "      <td>19644.45</td>\n",
              "      <td>12918.24</td>\n",
              "      <td>7458.76</td>\n",
              "      <td>40021.45</td>\n",
              "      <td>134237.37</td>\n",
              "    </tr>\n",
              "    <tr>\n",
              "      <th>4</th>\n",
              "      <td>1</td>\n",
              "      <td>1000</td>\n",
              "      <td>1062</td>\n",
              "      <td>Calendar</td>\n",
              "      <td>2013</td>\n",
              "      <td>Public Protection</td>\n",
              "      <td>ADP</td>\n",
              "      <td>ADP Adult Probation</td>\n",
              "      <td>21</td>\n",
              "      <td>Prof &amp; Tech Engineers - Miscellaneous, Local 21</td>\n",
              "      <td>Information Systems</td>\n",
              "      <td>IS Programmer Analyst</td>\n",
              "      <td>37730</td>\n",
              "      <td>5084.00</td>\n",
              "      <td>0.0</td>\n",
              "      <td>0.00</td>\n",
              "      <td>5084.00</td>\n",
              "      <td>1083.90</td>\n",
              "      <td>956.91</td>\n",
              "      <td>387.50</td>\n",
              "      <td>2428.31</td>\n",
              "      <td>7512.31</td>\n",
              "    </tr>\n",
              "  </tbody>\n",
              "</table>\n",
              "</div>"
            ],
            "text/plain": [
              "   Organization Group Code Job Family Code  ... Total Benefits Total Compensation\n",
              "0                        1            1000  ...       27747.13           85281.78\n",
              "1                        1            1000  ...       22216.82           79895.32\n",
              "2                        1            1000  ...       30116.78           93649.71\n",
              "3                        1            1000  ...       40021.45          134237.37\n",
              "4                        1            1000  ...        2428.31            7512.31\n",
              "\n",
              "[5 rows x 22 columns]"
            ]
          },
          "metadata": {},
          "execution_count": 6
        }
      ]
    },
    {
      "cell_type": "code",
      "metadata": {
        "colab": {
          "base_uri": "https://localhost:8080/"
        },
        "id": "Lm1HucNXoITS",
        "outputId": "8070b124-da1b-4e2e-ee06-a97b4aaf3fb8"
      },
      "source": [
        "df.shape"
      ],
      "execution_count": null,
      "outputs": [
        {
          "output_type": "execute_result",
          "data": {
            "text/plain": [
              "(72757, 22)"
            ]
          },
          "metadata": {},
          "execution_count": 7
        }
      ]
    },
    {
      "cell_type": "code",
      "metadata": {
        "colab": {
          "base_uri": "https://localhost:8080/"
        },
        "id": "_Tso217SoLG7",
        "outputId": "0f3924bb-af71-4e0f-c395-5b69e0619d09"
      },
      "source": [
        "df.info()"
      ],
      "execution_count": null,
      "outputs": [
        {
          "output_type": "stream",
          "name": "stdout",
          "text": [
            "<class 'pandas.core.frame.DataFrame'>\n",
            "RangeIndex: 72757 entries, 0 to 72756\n",
            "Data columns (total 22 columns):\n",
            " #   Column                   Non-Null Count  Dtype  \n",
            "---  ------                   --------------  -----  \n",
            " 0   Organization Group Code  72757 non-null  int64  \n",
            " 1   Job Family Code          72757 non-null  object \n",
            " 2   Job Code                 72757 non-null  object \n",
            " 3   Year Type                72757 non-null  object \n",
            " 4   Year                     72757 non-null  int64  \n",
            " 5   Organization Group       72757 non-null  object \n",
            " 6   Department Code          72757 non-null  object \n",
            " 7   Department               72757 non-null  object \n",
            " 8   Union Code               72757 non-null  int64  \n",
            " 9   Union                    72757 non-null  object \n",
            " 10  Job Family               72757 non-null  object \n",
            " 11  Job                      72757 non-null  object \n",
            " 12  Employee Identifier      72757 non-null  int64  \n",
            " 13  Salaries                 72757 non-null  float64\n",
            " 14  Overtime                 72757 non-null  float64\n",
            " 15  Other Salaries           72757 non-null  float64\n",
            " 16  Total Salary             72757 non-null  float64\n",
            " 17  Retirement               72757 non-null  float64\n",
            " 18  Health and Dental        72757 non-null  float64\n",
            " 19  Other Benefits           72757 non-null  float64\n",
            " 20  Total Benefits           72756 non-null  float64\n",
            " 21  Total Compensation       72756 non-null  float64\n",
            "dtypes: float64(9), int64(4), object(9)\n",
            "memory usage: 12.2+ MB\n"
          ]
        }
      ]
    },
    {
      "cell_type": "code",
      "metadata": {
        "colab": {
          "base_uri": "https://localhost:8080/"
        },
        "id": "MXhuuMD6QcDn",
        "outputId": "dd224b87-885e-4299-839b-88ba0eb64ce0"
      },
      "source": [
        "df.isnull().sum()"
      ],
      "execution_count": null,
      "outputs": [
        {
          "output_type": "execute_result",
          "data": {
            "text/plain": [
              "Organization Group Code    0\n",
              "Job Family Code            0\n",
              "Job Code                   0\n",
              "Year Type                  0\n",
              "Year                       0\n",
              "Organization Group         0\n",
              "Department Code            0\n",
              "Department                 0\n",
              "Union Code                 0\n",
              "Union                      0\n",
              "Job Family                 0\n",
              "Job                        0\n",
              "Employee Identifier        0\n",
              "Salaries                   0\n",
              "Overtime                   0\n",
              "Other Salaries             0\n",
              "Total Salary               0\n",
              "Retirement                 0\n",
              "Health and Dental          0\n",
              "Other Benefits             0\n",
              "Total Benefits             1\n",
              "Total Compensation         1\n",
              "dtype: int64"
            ]
          },
          "metadata": {},
          "execution_count": 9
        }
      ]
    },
    {
      "cell_type": "code",
      "metadata": {
        "colab": {
          "base_uri": "https://localhost:8080/"
        },
        "id": "eyWd7xankk45",
        "outputId": "124274c1-08a6-410f-d4bb-5cfd86de9156"
      },
      "source": [
        "col_name=df.columns\n",
        "for i in col_name:\n",
        "    print(i,'has :',df[i].nunique(),\"Unique values\")"
      ],
      "execution_count": null,
      "outputs": [
        {
          "output_type": "stream",
          "name": "stdout",
          "text": [
            "Organization Group Code has : 7 Unique values\n",
            "Job Family Code has : 84 Unique values\n",
            "Job Code has : 1073 Unique values\n",
            "Year Type has : 1 Unique values\n",
            "Year has : 2 Unique values\n",
            "Organization Group has : 7 Unique values\n",
            "Department Code has : 54 Unique values\n",
            "Department has : 54 Unique values\n",
            "Union Code has : 69 Unique values\n",
            "Union has : 69 Unique values\n",
            "Job Family has : 54 Unique values\n",
            "Job has : 1079 Unique values\n",
            "Employee Identifier has : 40969 Unique values\n",
            "Salaries has : 53542 Unique values\n",
            "Overtime has : 30784 Unique values\n",
            "Other Salaries has : 41872 Unique values\n",
            "Total Salary has : 67925 Unique values\n",
            "Retirement has : 53151 Unique values\n",
            "Health and Dental has : 23695 Unique values\n",
            "Other Benefits has : 67759 Unique values\n",
            "Total Benefits has : 70620 Unique values\n",
            "Total Compensation has : 71485 Unique values\n"
          ]
        }
      ]
    },
    {
      "cell_type": "code",
      "metadata": {
        "colab": {
          "base_uri": "https://localhost:8080/"
        },
        "id": "hzC3WJUblAae",
        "outputId": "5de02fef-26d2-438c-d741-21de8ffabbd5"
      },
      "source": [
        "df.columns"
      ],
      "execution_count": null,
      "outputs": [
        {
          "output_type": "execute_result",
          "data": {
            "text/plain": [
              "Index(['Organization Group Code', 'Job Family Code', 'Job Code', 'Year Type',\n",
              "       'Year', 'Organization Group', 'Department Code', 'Department',\n",
              "       'Union Code', 'Union', 'Job Family', 'Job', 'Employee Identifier',\n",
              "       'Salaries', 'Overtime', 'Other Salaries', 'Total Salary', 'Retirement',\n",
              "       'Health and Dental', 'Other Benefits', 'Total Benefits',\n",
              "       'Total Compensation'],\n",
              "      dtype='object')"
            ]
          },
          "metadata": {},
          "execution_count": 11
        }
      ]
    },
    {
      "cell_type": "code",
      "metadata": {
        "colab": {
          "base_uri": "https://localhost:8080/",
          "height": 290
        },
        "id": "ULNk5U-awl8G",
        "outputId": "c5de0952-b47b-4831-bdcd-f3c0dce0750c"
      },
      "source": [
        "salary = ['Salaries', 'Total Salary', 'Total Compensation']\n",
        "for col in salary:\n",
        "  ax_salary = sns.kdeplot(df[col], clip=(35000,200000))\n",
        "  ax_salary"
      ],
      "execution_count": null,
      "outputs": [
        {
          "output_type": "display_data",
          "data": {
            "image/png": "[encoded data removed]",
            "text/plain": [
              "<Figure size 432x288 with 1 Axes>"
            ]
          },
          "metadata": {
            "needs_background": "light"
          }
        }
      ]
    },
    {
      "cell_type": "code",
      "metadata": {
        "id": "AMLVmGsC4GUq"
      },
      "source": [
        "df_num = df.drop(['Health and Dental', 'Overtime', 'Employee Identifier','Organization Group Code','Job', 'Job Code', 'Job Family','Job Family Code', 'Year Type','Year', 'Organization Group', 'Department Code', 'Department','Union Code', 'Union'], axis=1)\n"
      ],
      "execution_count": null,
      "outputs": []
    },
    {
      "cell_type": "code",
      "metadata": {
        "colab": {
          "base_uri": "https://localhost:8080/",
          "height": 317
        },
        "id": "aNRVhjN946km",
        "outputId": "ea30fd95-be52-4c83-c46c-1b409a135ffd"
      },
      "source": [
        "df_num.describe()"
      ],
      "execution_count": null,
      "outputs": [
        {
          "output_type": "execute_result",
          "data": {
            "text/html": [
              "<div>\n",
              "<style scoped>\n",
              "    .dataframe tbody tr th:only-of-type {\n",
              "        vertical-align: middle;\n",
              "    }\n",
              "\n",
              "    .dataframe tbody tr th {\n",
              "        vertical-align: top;\n",
              "    }\n",
              "\n",
              "    .dataframe thead th {\n",
              "        text-align: right;\n",
              "    }\n",
              "</style>\n",
              "<table border=\"1\" class=\"dataframe\">\n",
              "  <thead>\n",
              "    <tr style=\"text-align: right;\">\n",
              "      <th></th>\n",
              "      <th>Salaries</th>\n",
              "      <th>Other Salaries</th>\n",
              "      <th>Total Salary</th>\n",
              "      <th>Retirement</th>\n",
              "      <th>Other Benefits</th>\n",
              "      <th>Total Benefits</th>\n",
              "      <th>Total Compensation</th>\n",
              "    </tr>\n",
              "  </thead>\n",
              "  <tbody>\n",
              "    <tr>\n",
              "      <th>count</th>\n",
              "      <td>72757.000000</td>\n",
              "      <td>72757.000000</td>\n",
              "      <td>72757.000000</td>\n",
              "      <td>72757.000000</td>\n",
              "      <td>72757.000000</td>\n",
              "      <td>72757.000000</td>\n",
              "      <td>72757.000000</td>\n",
              "    </tr>\n",
              "    <tr>\n",
              "      <th>mean</th>\n",
              "      <td>65352.640830</td>\n",
              "      <td>4197.902107</td>\n",
              "      <td>74316.050298</td>\n",
              "      <td>13637.870116</td>\n",
              "      <td>4648.507836</td>\n",
              "      <td>27656.032114</td>\n",
              "      <td>101972.783148</td>\n",
              "    </tr>\n",
              "    <tr>\n",
              "      <th>std</th>\n",
              "      <td>43695.887082</td>\n",
              "      <td>8482.923583</td>\n",
              "      <td>51711.029638</td>\n",
              "      <td>9687.276056</td>\n",
              "      <td>3564.262428</td>\n",
              "      <td>16375.957554</td>\n",
              "      <td>66744.145098</td>\n",
              "    </tr>\n",
              "    <tr>\n",
              "      <th>min</th>\n",
              "      <td>-2596.000000</td>\n",
              "      <td>-7058.590000</td>\n",
              "      <td>-2596.000000</td>\n",
              "      <td>-30621.430000</td>\n",
              "      <td>-10636.500000</td>\n",
              "      <td>-21295.150000</td>\n",
              "      <td>-8965.960000</td>\n",
              "    </tr>\n",
              "    <tr>\n",
              "      <th>25%</th>\n",
              "      <td>28584.500000</td>\n",
              "      <td>0.000000</td>\n",
              "      <td>31273.800000</td>\n",
              "      <td>5159.110000</td>\n",
              "      <td>1733.530000</td>\n",
              "      <td>12592.970000</td>\n",
              "      <td>44521.420000</td>\n",
              "    </tr>\n",
              "    <tr>\n",
              "      <th>50%</th>\n",
              "      <td>64317.030000</td>\n",
              "      <td>905.870000</td>\n",
              "      <td>70724.740000</td>\n",
              "      <td>13819.760000</td>\n",
              "      <td>4418.980000</td>\n",
              "      <td>31272.180000</td>\n",
              "      <td>102309.690000</td>\n",
              "    </tr>\n",
              "    <tr>\n",
              "      <th>75%</th>\n",
              "      <td>94305.000000</td>\n",
              "      <td>5346.810000</td>\n",
              "      <td>106324.340000</td>\n",
              "      <td>20203.560000</td>\n",
              "      <td>6838.650000</td>\n",
              "      <td>39478.330000</td>\n",
              "      <td>145536.910000</td>\n",
              "    </tr>\n",
              "    <tr>\n",
              "      <th>max</th>\n",
              "      <td>319275.010000</td>\n",
              "      <td>342802.630000</td>\n",
              "      <td>471952.640000</td>\n",
              "      <td>68165.140000</td>\n",
              "      <td>32296.030000</td>\n",
              "      <td>101397.140000</td>\n",
              "      <td>510574.450000</td>\n",
              "    </tr>\n",
              "  </tbody>\n",
              "</table>\n",
              "</div>"
            ],
            "text/plain": [
              "            Salaries  Other Salaries  ...  Total Benefits  Total Compensation\n",
              "count   72757.000000    72757.000000  ...    72757.000000        72757.000000\n",
              "mean    65352.640830     4197.902107  ...    27656.032114       101972.783148\n",
              "std     43695.887082     8482.923583  ...    16375.957554        66744.145098\n",
              "min     -2596.000000    -7058.590000  ...   -21295.150000        -8965.960000\n",
              "25%     28584.500000        0.000000  ...    12592.970000        44521.420000\n",
              "50%     64317.030000      905.870000  ...    31272.180000       102309.690000\n",
              "75%     94305.000000     5346.810000  ...    39478.330000       145536.910000\n",
              "max    319275.010000   342802.630000  ...   101397.140000       510574.450000\n",
              "\n",
              "[8 rows x 7 columns]"
            ]
          },
          "metadata": {},
          "execution_count": 79
        }
      ]
    },
    {
      "cell_type": "code",
      "metadata": {
        "colab": {
          "base_uri": "https://localhost:8080/"
        },
        "id": "vmgycn0s5BgS",
        "outputId": "fd124241-6489-4cf1-b9fc-84ef49640ccd"
      },
      "source": [
        "df_num.info()"
      ],
      "execution_count": null,
      "outputs": [
        {
          "output_type": "stream",
          "name": "stdout",
          "text": [
            "<class 'pandas.core.frame.DataFrame'>\n",
            "RangeIndex: 72757 entries, 0 to 72756\n",
            "Data columns (total 7 columns):\n",
            " #   Column              Non-Null Count  Dtype  \n",
            "---  ------              --------------  -----  \n",
            " 0   Salaries            72757 non-null  float64\n",
            " 1   Other Salaries      72757 non-null  float64\n",
            " 2   Total Salary        72757 non-null  float64\n",
            " 3   Retirement          72757 non-null  float64\n",
            " 4   Other Benefits      72757 non-null  float64\n",
            " 5   Total Benefits      72757 non-null  float64\n",
            " 6   Total Compensation  72757 non-null  float64\n",
            "dtypes: float64(7)\n",
            "memory usage: 3.9 MB\n"
          ]
        }
      ]
    },
    {
      "cell_type": "code",
      "metadata": {
        "colab": {
          "base_uri": "https://localhost:8080/"
        },
        "id": "hk7D_Vdbsa8o",
        "outputId": "bf564f09-6057-433b-993c-87f83fed325a"
      },
      "source": [
        "df_num.isnull().sum()"
      ],
      "execution_count": null,
      "outputs": [
        {
          "output_type": "execute_result",
          "data": {
            "text/plain": [
              "Salaries              0\n",
              "Other Salaries        0\n",
              "Total Salary          0\n",
              "Retirement            0\n",
              "Other Benefits        0\n",
              "Total Benefits        0\n",
              "Total Compensation    0\n",
              "dtype: int64"
            ]
          },
          "metadata": {},
          "execution_count": 81
        }
      ]
    },
    {
      "cell_type": "code",
      "metadata": {
        "id": "wKG2Cjz2swKW"
      },
      "source": [
        "df_num[\"Total Benefits\"].fillna(df_num[\"Total Benefits\"].mean(), inplace=True)\n",
        "df_num[\"Total Compensation\"].fillna(df_num[\"Total Compensation\"].mean(), inplace=True)"
      ],
      "execution_count": null,
      "outputs": []
    },
    {
      "cell_type": "code",
      "metadata": {
        "colab": {
          "base_uri": "https://localhost:8080/"
        },
        "id": "yHpSuZE-t-Mh",
        "outputId": "910dfd62-04da-49f1-b6f3-16f906ab66dd"
      },
      "source": [
        "df_num.isnull().sum()"
      ],
      "execution_count": null,
      "outputs": [
        {
          "output_type": "execute_result",
          "data": {
            "text/plain": [
              "Salaries              0\n",
              "Other Salaries        0\n",
              "Total Salary          0\n",
              "Retirement            0\n",
              "Other Benefits        0\n",
              "Total Benefits        0\n",
              "Total Compensation    0\n",
              "dtype: int64"
            ]
          },
          "metadata": {},
          "execution_count": 83
        }
      ]
    },
    {
      "cell_type": "code",
      "metadata": {
        "colab": {
          "base_uri": "https://localhost:8080/"
        },
        "id": "SnM5KbfcqnEk",
        "outputId": "f70f7a4b-5a2c-43fe-d4b0-b36ded2d2cb3"
      },
      "source": [
        "from numpy import asarray\n",
        "from sklearn.preprocessing import MinMaxScaler\n",
        "# define min max scaler\n",
        "scaler = MinMaxScaler()\n",
        "# transform data\n",
        "scaled = scaler.fit_transform(df_num)\n",
        "print(scaled)\n"
      ],
      "execution_count": null,
      "outputs": [
        {
          "output_type": "stream",
          "name": "stdout",
          "text": [
            "[[0.18681599 0.0201754  0.12671125 ... 0.35332486 0.3997177  0.18140599]\n",
            " [0.1872629  0.0201754  0.12701438 ... 0.35850764 0.35464307 0.17103825]\n",
            " [0.20545165 0.0201754  0.13935122 ... 0.35728642 0.41903146 0.19751239]\n",
            " ...\n",
            " [0.0413675  0.02405051 0.03091517 ... 0.26952337 0.18937017 0.04423105]\n",
            " [0.02622184 0.02228872 0.01934348 ... 0.30150727 0.19522408 0.0350439 ]\n",
            " [0.06597152 0.03359518 0.05464009 ... 0.24935637 0.39897521 0.21353246]]\n"
          ]
        }
      ]
    },
    {
      "cell_type": "code",
      "metadata": {
        "id": "aozeQ5HUq4uo"
      },
      "source": [
        "from sklearn.cluster import KMeans\n"
      ],
      "execution_count": null,
      "outputs": []
    },
    {
      "cell_type": "code",
      "metadata": {
        "id": "0TZBfUVRrMrS"
      },
      "source": [
        "kmeans=KMeans(n_clusters=3)"
      ],
      "execution_count": null,
      "outputs": []
    },
    {
      "cell_type": "code",
      "metadata": {
        "colab": {
          "base_uri": "https://localhost:8080/"
        },
        "id": "bFDXn97VrUf0",
        "outputId": "326bc1de-cd15-4206-ad70-ef00a63d1605"
      },
      "source": [
        "kmeans.fit(df_num)"
      ],
      "execution_count": null,
      "outputs": [
        {
          "output_type": "execute_result",
          "data": {
            "text/plain": [
              "KMeans(algorithm='auto', copy_x=True, init='k-means++', max_iter=300,\n",
              "       n_clusters=3, n_init=10, n_jobs=None, precompute_distances='auto',\n",
              "       random_state=None, tol=0.0001, verbose=0)"
            ]
          },
          "metadata": {},
          "execution_count": 89
        }
      ]
    },
    {
      "cell_type": "code",
      "metadata": {
        "colab": {
          "base_uri": "https://localhost:8080/"
        },
        "id": "r4U6pRiHuVaD",
        "outputId": "a46bdad5-5136-4e0a-c5bb-2f79ca605f27"
      },
      "source": [
        "print(kmeans.cluster_centers_)"
      ],
      "execution_count": null,
      "outputs": [
        {
          "output_type": "stream",
          "name": "stdout",
          "text": [
            "[[ 70036.14122722   3332.27560789  77307.85608314  15126.6574812\n",
            "    5729.35685646  32702.25150641 110011.6411085 ]\n",
            " [ 16383.36142357    943.398754    17817.98698134   2638.07142617\n",
            "    1462.64081872   7397.14148708  25215.12846842]\n",
            " [125098.15179591  10559.48800183 148146.70098014  26171.0272044\n",
            "    6958.69246257  46057.84528628 194204.54626642]]\n"
          ]
        }
      ]
    },
    {
      "cell_type": "code",
      "metadata": {
        "id": "eNhJS_TruqgL"
      },
      "source": [
        "y = kmeans.predict(df_num)"
      ],
      "execution_count": null,
      "outputs": []
    },
    {
      "cell_type": "code",
      "metadata": {
        "id": "AkoTP9rQuxZo"
      },
      "source": [
        "from sklearn.metrics import silhouette_samples, silhouette_score\n",
        "from matplotlib import cm"
      ],
      "execution_count": null,
      "outputs": []
    },
    {
      "cell_type": "code",
      "metadata": {
        "colab": {
          "base_uri": "https://localhost:8080/"
        },
        "id": "m7DhtzRUvNUh",
        "outputId": "12099b41-8446-4991-c2c3-5967c8cb37c1"
      },
      "source": [
        "silhouette_score(df_num,y)"
      ],
      "execution_count": null,
      "outputs": [
        {
          "output_type": "execute_result",
          "data": {
            "text/plain": [
              "0.572471704500985"
            ]
          },
          "metadata": {},
          "execution_count": 93
        }
      ]
    },
    {
      "cell_type": "code",
      "metadata": {
        "id": "FiZScu3UwOIz"
      },
      "source": [
        "score = []\n",
        "for n_clusters in range(2,10):\n",
        "    kmeans = KMeans(n_clusters=n_clusters)\n",
        "    kmeans.fit(df_num)\n",
        "    labels = kmeans.labels_\n",
        "    centroids = kmeans.cluster_centers_\n",
        "    score.append(silhouette_score(df_num, labels, metric='euclidean'))"
      ],
      "execution_count": null,
      "outputs": []
    },
    {
      "cell_type": "code",
      "metadata": {
        "colab": {
          "base_uri": "https://localhost:8080/",
          "height": 313
        },
        "id": "_7EC3XhxwV9D",
        "outputId": "c092a111-9bca-4849-f9d1-bf1a22551e8a"
      },
      "source": [
        "# Set the size of the plot\n",
        "plt.figure(figsize=(10,4))\n",
        "plt.subplot(1, 2, 1)\n",
        "plt.plot(score)\n",
        "plt.grid(True)\n",
        "plt.ylabel(\"Silouette Score\")\n",
        "plt.xlabel(\"k\")\n",
        "plt.title(\"Silouette for K-means\")"
      ],
      "execution_count": null,
      "outputs": [
        {
          "output_type": "execute_result",
          "data": {
            "text/plain": [
              "Text(0.5, 1.0, 'Silouette for K-means')"
            ]
          },
          "metadata": {},
          "execution_count": 96
        },
        {
          "output_type": "display_data",
          "data": {
            "image/png": "[encoded data removed]",
            "text/plain": [
              "<Figure size 720x288 with 1 Axes>"
            ]
          },
          "metadata": {
            "needs_background": "light"
          }
        }
      ]
    }
  ]
}